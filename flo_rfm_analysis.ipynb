{
 "cells": [
  {
   "cell_type": "code",
   "execution_count": 1,
   "metadata": {
    "collapsed": true,
    "pycharm": {
     "name": "#%%\n"
    }
   },
   "outputs": [],
   "source": [
    "import pandas as pd\n",
    "from datetime import timedelta\n",
    "pd.set_option('display.max_columns', None)\n",
    "pd.set_option('display.float_format', lambda x: '%.3f' % x)"
   ]
  },
  {
   "cell_type": "code",
   "execution_count": 2,
   "outputs": [],
   "source": [
    "df_ = pd.read_csv(\"flo_data_20k.csv\", encoding='utf-8')\n",
    "df = df_.copy()"
   ],
   "metadata": {
    "collapsed": false,
    "pycharm": {
     "name": "#%%\n"
    }
   }
  },
  {
   "cell_type": "code",
   "execution_count": 3,
   "outputs": [
    {
     "name": "stdout",
     "output_type": "stream",
     "text": [
      "--------- HEAD ---------\n",
      "                              master_id order_channel last_order_channel  \\\n",
      "0  cc294636-19f0-11eb-8d74-000d3a38a36f   Android App            Offline   \n",
      "1  f431bd5a-ab7b-11e9-a2fc-000d3a38a36f   Android App             Mobile   \n",
      "2  69b69676-1a40-11ea-941b-000d3a38a36f   Android App        Android App   \n",
      "3  1854e56c-491f-11eb-806e-000d3a38a36f   Android App        Android App   \n",
      "4  d6ea1074-f1f5-11e9-9346-000d3a38a36f       Desktop            Desktop   \n",
      "5  e585280e-aae1-11e9-a2fc-000d3a38a36f       Desktop            Offline   \n",
      "6  c445e4ee-6242-11ea-9d1a-000d3a38a36f   Android App        Android App   \n",
      "7  3f1b4dc8-8a7d-11ea-8ec0-000d3a38a36f        Mobile            Offline   \n",
      "8  cfbda69e-5b4f-11ea-aca7-000d3a38a36f   Android App        Android App   \n",
      "9  1143f032-440d-11ea-8b43-000d3a38a36f        Mobile             Mobile   \n",
      "\n",
      "  first_order_date last_order_date last_order_date_online  \\\n",
      "0       2020-10-30      2021-02-26             2021-02-21   \n",
      "1       2017-02-08      2021-02-16             2021-02-16   \n",
      "2       2019-11-27      2020-11-27             2020-11-27   \n",
      "3       2021-01-06      2021-01-17             2021-01-17   \n",
      "4       2019-08-03      2021-03-07             2021-03-07   \n",
      "5       2018-11-18      2021-03-13             2018-11-18   \n",
      "6       2020-03-04      2020-10-18             2020-10-18   \n",
      "7       2020-05-15      2020-08-12             2020-05-15   \n",
      "8       2020-01-23      2021-03-07             2021-03-07   \n",
      "9       2019-07-30      2020-10-04             2020-10-04   \n",
      "\n",
      "  last_order_date_offline  order_num_total_ever_online  \\\n",
      "0              2021-02-26                        4.000   \n",
      "1              2020-01-10                       19.000   \n",
      "2              2019-12-01                        3.000   \n",
      "3              2021-01-06                        1.000   \n",
      "4              2019-08-03                        1.000   \n",
      "5              2021-03-13                        1.000   \n",
      "6              2020-03-04                        3.000   \n",
      "7              2020-08-12                        1.000   \n",
      "8              2020-01-25                        3.000   \n",
      "9              2019-07-30                        1.000   \n",
      "\n",
      "   order_num_total_ever_offline  customer_value_total_ever_offline  \\\n",
      "0                         1.000                            139.990   \n",
      "1                         2.000                            159.970   \n",
      "2                         2.000                            189.970   \n",
      "3                         1.000                             39.990   \n",
      "4                         1.000                             49.990   \n",
      "5                         2.000                            150.870   \n",
      "6                         1.000                             59.990   \n",
      "7                         1.000                             49.990   \n",
      "8                         2.000                            120.480   \n",
      "9                         1.000                             69.980   \n",
      "\n",
      "   customer_value_total_ever_online       interested_in_categories_12  \n",
      "0                           799.380                           [KADIN]  \n",
      "1                          1853.580  [ERKEK, COCUK, KADIN, AKTIFSPOR]  \n",
      "2                           395.350                    [ERKEK, KADIN]  \n",
      "3                            81.980               [AKTIFCOCUK, COCUK]  \n",
      "4                           159.990                       [AKTIFSPOR]  \n",
      "5                            49.990                           [KADIN]  \n",
      "6                           315.940                       [AKTIFSPOR]  \n",
      "7                           113.640                           [COCUK]  \n",
      "8                           934.210             [ERKEK, COCUK, KADIN]  \n",
      "9                            95.980                [KADIN, AKTIFSPOR]  \n",
      "--------- SHAPE ---------\n",
      "(19945, 12)\n",
      "--------- COLUMNS ---------\n",
      "Index(['master_id', 'order_channel', 'last_order_channel', 'first_order_date',\n",
      "       'last_order_date', 'last_order_date_online', 'last_order_date_offline',\n",
      "       'order_num_total_ever_online', 'order_num_total_ever_offline',\n",
      "       'customer_value_total_ever_offline', 'customer_value_total_ever_online',\n",
      "       'interested_in_categories_12'],\n",
      "      dtype='object')\n",
      "--------- DESCRIBE ---------\n",
      "                                      count    mean     std    min     25%  \\\n",
      "order_num_total_ever_online       19945.000   3.111   4.226  1.000   1.000   \n",
      "order_num_total_ever_offline      19945.000   1.914   2.063  1.000   1.000   \n",
      "customer_value_total_ever_offline 19945.000 253.923 301.533 10.000  99.990   \n",
      "customer_value_total_ever_online  19945.000 497.322 832.602 12.990 149.980   \n",
      "\n",
      "                                      50%     75%       max  \n",
      "order_num_total_ever_online         2.000   4.000   200.000  \n",
      "order_num_total_ever_offline        1.000   2.000   109.000  \n",
      "customer_value_total_ever_offline 179.980 319.970 18119.140  \n",
      "customer_value_total_ever_online  286.460 578.440 45220.130  \n",
      "--------- INFO ---------\n",
      "<class 'pandas.core.frame.DataFrame'>\n",
      "RangeIndex: 19945 entries, 0 to 19944\n",
      "Data columns (total 12 columns):\n",
      " #   Column                             Non-Null Count  Dtype  \n",
      "---  ------                             --------------  -----  \n",
      " 0   master_id                          19945 non-null  object \n",
      " 1   order_channel                      19945 non-null  object \n",
      " 2   last_order_channel                 19945 non-null  object \n",
      " 3   first_order_date                   19945 non-null  object \n",
      " 4   last_order_date                    19945 non-null  object \n",
      " 5   last_order_date_online             19945 non-null  object \n",
      " 6   last_order_date_offline            19945 non-null  object \n",
      " 7   order_num_total_ever_online        19945 non-null  float64\n",
      " 8   order_num_total_ever_offline       19945 non-null  float64\n",
      " 9   customer_value_total_ever_offline  19945 non-null  float64\n",
      " 10  customer_value_total_ever_online   19945 non-null  float64\n",
      " 11  interested_in_categories_12        19945 non-null  object \n",
      "dtypes: float64(4), object(8)\n",
      "memory usage: 1.8+ MB\n",
      "None\n",
      "--------- FREQUENCY ---------\n",
      "master_id                            19945\n",
      "order_channel                            4\n",
      "last_order_channel                       5\n",
      "first_order_date                      2465\n",
      "last_order_date                        366\n",
      "last_order_date_online                1743\n",
      "last_order_date_offline                738\n",
      "order_num_total_ever_online             57\n",
      "order_num_total_ever_offline            32\n",
      "customer_value_total_ever_offline     6097\n",
      "customer_value_total_ever_online     11292\n",
      "interested_in_categories_12             32\n",
      "dtype: int64\n",
      "--------- ANY NULL VALUES ---------\n",
      "False\n",
      "--------- SUM OF NULL VALUES ---------\n",
      "master_id                            0\n",
      "order_channel                        0\n",
      "last_order_channel                   0\n",
      "first_order_date                     0\n",
      "last_order_date                      0\n",
      "last_order_date_online               0\n",
      "last_order_date_offline              0\n",
      "order_num_total_ever_online          0\n",
      "order_num_total_ever_offline         0\n",
      "customer_value_total_ever_offline    0\n",
      "customer_value_total_ever_online     0\n",
      "interested_in_categories_12          0\n",
      "dtype: int64\n"
     ]
    }
   ],
   "source": [
    "def quick_info(dataframe):\n",
    "    print(\"--------- HEAD ---------\")\n",
    "    print(dataframe.head(10))\n",
    "    print(\"--------- SHAPE ---------\")\n",
    "    print(dataframe.shape)\n",
    "    print(\"--------- COLUMNS ---------\")\n",
    "    print(dataframe.columns)\n",
    "    print(\"--------- DESCRIBE ---------\")\n",
    "    print(dataframe.describe().T)\n",
    "    print(\"--------- INFO ---------\")\n",
    "    print(dataframe.info())\n",
    "    print(\"--------- FREQUENCY ---------\")\n",
    "    print(dataframe.nunique())\n",
    "    print(\"--------- ANY NULL VALUES ---------\")\n",
    "    print(dataframe.isnull().values.any())\n",
    "    print(\"--------- SUM OF NULL VALUES ---------\")\n",
    "    print(dataframe.isnull().sum())\n",
    "\n",
    "quick_info(df)"
   ],
   "metadata": {
    "collapsed": false,
    "pycharm": {
     "name": "#%%\n"
    }
   }
  },
  {
   "cell_type": "code",
   "execution_count": 4,
   "outputs": [],
   "source": [
    "#The number of orders and expenses made by customers both online and offline were combined\n",
    "df['order_num_total'] = df['order_num_total_ever_online'] + df['order_num_total_ever_offline'] #Orders\n",
    "df['customer_value_total'] = df['customer_value_total_ever_online'] + df['customer_value_total_ever_offline'] #Expenses"
   ],
   "metadata": {
    "collapsed": false,
    "pycharm": {
     "name": "#%%\n"
    }
   }
  },
  {
   "cell_type": "code",
   "execution_count": 5,
   "outputs": [],
   "source": [
    "# Current dtype is 'object' and format is yy-mm-dd\n",
    "date_cols = df.columns[df.columns.str.contains('date')]\n",
    "# Converted to date type\n",
    "df[date_cols] = df[date_cols].apply(pd.to_datetime)"
   ],
   "metadata": {
    "collapsed": false,
    "pycharm": {
     "name": "#%%\n"
    }
   }
  },
  {
   "cell_type": "code",
   "execution_count": 6,
   "outputs": [
    {
     "data": {
      "text/plain": "               master_id  order_num_total  customer_value_total\norder_channel                                                  \nAndroid App         9495        52269.000           7819062.760\nDesktop             2735        10920.000           1610321.460\nIos App             2833        15351.000           2525999.930\nMobile              4882        21679.000           3028183.160",
      "text/html": "<div>\n<style scoped>\n    .dataframe tbody tr th:only-of-type {\n        vertical-align: middle;\n    }\n\n    .dataframe tbody tr th {\n        vertical-align: top;\n    }\n\n    .dataframe thead th {\n        text-align: right;\n    }\n</style>\n<table border=\"1\" class=\"dataframe\">\n  <thead>\n    <tr style=\"text-align: right;\">\n      <th></th>\n      <th>master_id</th>\n      <th>order_num_total</th>\n      <th>customer_value_total</th>\n    </tr>\n    <tr>\n      <th>order_channel</th>\n      <th></th>\n      <th></th>\n      <th></th>\n    </tr>\n  </thead>\n  <tbody>\n    <tr>\n      <th>Android App</th>\n      <td>9495</td>\n      <td>52269.000</td>\n      <td>7819062.760</td>\n    </tr>\n    <tr>\n      <th>Desktop</th>\n      <td>2735</td>\n      <td>10920.000</td>\n      <td>1610321.460</td>\n    </tr>\n    <tr>\n      <th>Ios App</th>\n      <td>2833</td>\n      <td>15351.000</td>\n      <td>2525999.930</td>\n    </tr>\n    <tr>\n      <th>Mobile</th>\n      <td>4882</td>\n      <td>21679.000</td>\n      <td>3028183.160</td>\n    </tr>\n  </tbody>\n</table>\n</div>"
     },
     "execution_count": 6,
     "metadata": {},
     "output_type": "execute_result"
    }
   ],
   "source": [
    "# Distribution of the total of customer orders and expenses by order channel\n",
    "df.groupby('order_channel').agg({'master_id':'count',\n",
    "                                 \"order_num_total\":\"sum\",\n",
    "                                 \"customer_value_total\":\"sum\"})"
   ],
   "metadata": {
    "collapsed": false,
    "pycharm": {
     "name": "#%%\n"
    }
   }
  },
  {
   "cell_type": "code",
   "execution_count": 7,
   "outputs": [
    {
     "data": {
      "text/plain": "                                  master_id order_channel last_order_channel  \\\n11150  5d1c466a-9cfd-11e9-9897-000d3a38a36f   Android App            Desktop   \n4315   d5ef8058-a5c6-11e9-a2fc-000d3a38a36f   Android App        Android App   \n7613   73fd19aa-9e37-11e9-9897-000d3a38a36f       Ios App            Offline   \n13880  7137a5c0-7aad-11ea-8f20-000d3a38a36f       Ios App            Offline   \n9055   47a642fe-975b-11eb-8c2a-000d3a38a36f   Android App            Offline   \n7330   a4d534a2-5b1b-11eb-8dbd-000d3a38a36f       Desktop            Desktop   \n8068   d696c654-2633-11ea-8e1c-000d3a38a36f       Ios App            Ios App   \n163    fef57ffa-aae6-11e9-a2fc-000d3a38a36f        Mobile            Desktop   \n7223   cba59206-9dd1-11e9-9897-000d3a38a36f   Android App        Android App   \n18767  fc0ce7a4-9d87-11e9-9897-000d3a38a36f       Desktop            Desktop   \n\n      first_order_date last_order_date last_order_date_online  \\\n11150       2013-10-11      2021-04-30             2021-04-30   \n4315        2018-08-06      2021-02-23             2021-02-23   \n7613        2014-01-14      2021-05-18             2021-01-30   \n13880       2021-03-01      2021-04-13             2021-03-18   \n9055        2021-04-07      2021-04-27             2021-04-07   \n7330        2020-02-16      2021-04-30             2021-04-30   \n8068        2017-05-10      2021-04-13             2021-04-13   \n163         2016-11-08      2021-05-12             2021-05-12   \n7223        2013-02-21      2021-05-09             2021-05-09   \n18767       2018-11-24      2020-11-11             2020-11-11   \n\n      last_order_date_offline  order_num_total_ever_online  \\\n11150              2020-12-24                      200.000   \n4315               2020-07-06                       67.000   \n7613               2021-05-18                       81.000   \n13880              2021-04-13                       10.000   \n9055               2021-04-27                        1.000   \n7330               2020-12-18                       66.000   \n8068               2019-08-15                       69.000   \n163                2020-07-09                       36.000   \n7223               2020-01-25                      130.000   \n18767              2019-12-06                       18.000   \n\n       order_num_total_ever_offline  customer_value_total_ever_offline  \\\n11150                         2.000                            684.970   \n4315                          1.000                            130.490   \n7613                          1.000                           1263.760   \n13880                         1.000                            538.940   \n9055                          3.000                          18119.140   \n7330                          4.000                            843.680   \n8068                          1.000                             82.480   \n163                           1.000                            180.730   \n7223                          1.000                             49.990   \n18767                         2.000                             64.970   \n\n       customer_value_total_ever_online  \\\n11150                         45220.130   \n4315                          36687.800   \n7613                          32654.340   \n13880                         30688.470   \n9055                           2587.200   \n7330                          17599.890   \n8068                          16836.090   \n163                           12545.370   \n7223                          12232.250   \n18767                         12038.180   \n\n                        interested_in_categories_12  order_num_total  \\\n11150  [AKTIFCOCUK, ERKEK, COCUK, KADIN, AKTIFSPOR]          202.000   \n4315          [AKTIFCOCUK, ERKEK, KADIN, AKTIFSPOR]           68.000   \n7613               [ERKEK, COCUK, KADIN, AKTIFSPOR]           82.000   \n13880                     [ERKEK, KADIN, AKTIFSPOR]           11.000   \n9055                                    [AKTIFSPOR]            4.000   \n7330                      [ERKEK, KADIN, AKTIFSPOR]           70.000   \n8068   [AKTIFCOCUK, ERKEK, COCUK, KADIN, AKTIFSPOR]           70.000   \n163                              [ERKEK, AKTIFSPOR]           37.000   \n7223          [AKTIFCOCUK, ERKEK, KADIN, AKTIFSPOR]          131.000   \n18767                                [ERKEK, KADIN]           20.000   \n\n       customer_value_total  \n11150             45905.100  \n4315              36818.290  \n7613              33918.100  \n13880             31227.410  \n9055              20706.340  \n7330              18443.570  \n8068              16918.570  \n163               12726.100  \n7223              12282.240  \n18767             12103.150  ",
      "text/html": "<div>\n<style scoped>\n    .dataframe tbody tr th:only-of-type {\n        vertical-align: middle;\n    }\n\n    .dataframe tbody tr th {\n        vertical-align: top;\n    }\n\n    .dataframe thead th {\n        text-align: right;\n    }\n</style>\n<table border=\"1\" class=\"dataframe\">\n  <thead>\n    <tr style=\"text-align: right;\">\n      <th></th>\n      <th>master_id</th>\n      <th>order_channel</th>\n      <th>last_order_channel</th>\n      <th>first_order_date</th>\n      <th>last_order_date</th>\n      <th>last_order_date_online</th>\n      <th>last_order_date_offline</th>\n      <th>order_num_total_ever_online</th>\n      <th>order_num_total_ever_offline</th>\n      <th>customer_value_total_ever_offline</th>\n      <th>customer_value_total_ever_online</th>\n      <th>interested_in_categories_12</th>\n      <th>order_num_total</th>\n      <th>customer_value_total</th>\n    </tr>\n  </thead>\n  <tbody>\n    <tr>\n      <th>11150</th>\n      <td>5d1c466a-9cfd-11e9-9897-000d3a38a36f</td>\n      <td>Android App</td>\n      <td>Desktop</td>\n      <td>2013-10-11</td>\n      <td>2021-04-30</td>\n      <td>2021-04-30</td>\n      <td>2020-12-24</td>\n      <td>200.000</td>\n      <td>2.000</td>\n      <td>684.970</td>\n      <td>45220.130</td>\n      <td>[AKTIFCOCUK, ERKEK, COCUK, KADIN, AKTIFSPOR]</td>\n      <td>202.000</td>\n      <td>45905.100</td>\n    </tr>\n    <tr>\n      <th>4315</th>\n      <td>d5ef8058-a5c6-11e9-a2fc-000d3a38a36f</td>\n      <td>Android App</td>\n      <td>Android App</td>\n      <td>2018-08-06</td>\n      <td>2021-02-23</td>\n      <td>2021-02-23</td>\n      <td>2020-07-06</td>\n      <td>67.000</td>\n      <td>1.000</td>\n      <td>130.490</td>\n      <td>36687.800</td>\n      <td>[AKTIFCOCUK, ERKEK, KADIN, AKTIFSPOR]</td>\n      <td>68.000</td>\n      <td>36818.290</td>\n    </tr>\n    <tr>\n      <th>7613</th>\n      <td>73fd19aa-9e37-11e9-9897-000d3a38a36f</td>\n      <td>Ios App</td>\n      <td>Offline</td>\n      <td>2014-01-14</td>\n      <td>2021-05-18</td>\n      <td>2021-01-30</td>\n      <td>2021-05-18</td>\n      <td>81.000</td>\n      <td>1.000</td>\n      <td>1263.760</td>\n      <td>32654.340</td>\n      <td>[ERKEK, COCUK, KADIN, AKTIFSPOR]</td>\n      <td>82.000</td>\n      <td>33918.100</td>\n    </tr>\n    <tr>\n      <th>13880</th>\n      <td>7137a5c0-7aad-11ea-8f20-000d3a38a36f</td>\n      <td>Ios App</td>\n      <td>Offline</td>\n      <td>2021-03-01</td>\n      <td>2021-04-13</td>\n      <td>2021-03-18</td>\n      <td>2021-04-13</td>\n      <td>10.000</td>\n      <td>1.000</td>\n      <td>538.940</td>\n      <td>30688.470</td>\n      <td>[ERKEK, KADIN, AKTIFSPOR]</td>\n      <td>11.000</td>\n      <td>31227.410</td>\n    </tr>\n    <tr>\n      <th>9055</th>\n      <td>47a642fe-975b-11eb-8c2a-000d3a38a36f</td>\n      <td>Android App</td>\n      <td>Offline</td>\n      <td>2021-04-07</td>\n      <td>2021-04-27</td>\n      <td>2021-04-07</td>\n      <td>2021-04-27</td>\n      <td>1.000</td>\n      <td>3.000</td>\n      <td>18119.140</td>\n      <td>2587.200</td>\n      <td>[AKTIFSPOR]</td>\n      <td>4.000</td>\n      <td>20706.340</td>\n    </tr>\n    <tr>\n      <th>7330</th>\n      <td>a4d534a2-5b1b-11eb-8dbd-000d3a38a36f</td>\n      <td>Desktop</td>\n      <td>Desktop</td>\n      <td>2020-02-16</td>\n      <td>2021-04-30</td>\n      <td>2021-04-30</td>\n      <td>2020-12-18</td>\n      <td>66.000</td>\n      <td>4.000</td>\n      <td>843.680</td>\n      <td>17599.890</td>\n      <td>[ERKEK, KADIN, AKTIFSPOR]</td>\n      <td>70.000</td>\n      <td>18443.570</td>\n    </tr>\n    <tr>\n      <th>8068</th>\n      <td>d696c654-2633-11ea-8e1c-000d3a38a36f</td>\n      <td>Ios App</td>\n      <td>Ios App</td>\n      <td>2017-05-10</td>\n      <td>2021-04-13</td>\n      <td>2021-04-13</td>\n      <td>2019-08-15</td>\n      <td>69.000</td>\n      <td>1.000</td>\n      <td>82.480</td>\n      <td>16836.090</td>\n      <td>[AKTIFCOCUK, ERKEK, COCUK, KADIN, AKTIFSPOR]</td>\n      <td>70.000</td>\n      <td>16918.570</td>\n    </tr>\n    <tr>\n      <th>163</th>\n      <td>fef57ffa-aae6-11e9-a2fc-000d3a38a36f</td>\n      <td>Mobile</td>\n      <td>Desktop</td>\n      <td>2016-11-08</td>\n      <td>2021-05-12</td>\n      <td>2021-05-12</td>\n      <td>2020-07-09</td>\n      <td>36.000</td>\n      <td>1.000</td>\n      <td>180.730</td>\n      <td>12545.370</td>\n      <td>[ERKEK, AKTIFSPOR]</td>\n      <td>37.000</td>\n      <td>12726.100</td>\n    </tr>\n    <tr>\n      <th>7223</th>\n      <td>cba59206-9dd1-11e9-9897-000d3a38a36f</td>\n      <td>Android App</td>\n      <td>Android App</td>\n      <td>2013-02-21</td>\n      <td>2021-05-09</td>\n      <td>2021-05-09</td>\n      <td>2020-01-25</td>\n      <td>130.000</td>\n      <td>1.000</td>\n      <td>49.990</td>\n      <td>12232.250</td>\n      <td>[AKTIFCOCUK, ERKEK, KADIN, AKTIFSPOR]</td>\n      <td>131.000</td>\n      <td>12282.240</td>\n    </tr>\n    <tr>\n      <th>18767</th>\n      <td>fc0ce7a4-9d87-11e9-9897-000d3a38a36f</td>\n      <td>Desktop</td>\n      <td>Desktop</td>\n      <td>2018-11-24</td>\n      <td>2020-11-11</td>\n      <td>2020-11-11</td>\n      <td>2019-12-06</td>\n      <td>18.000</td>\n      <td>2.000</td>\n      <td>64.970</td>\n      <td>12038.180</td>\n      <td>[ERKEK, KADIN]</td>\n      <td>20.000</td>\n      <td>12103.150</td>\n    </tr>\n  </tbody>\n</table>\n</div>"
     },
     "execution_count": 7,
     "metadata": {},
     "output_type": "execute_result"
    }
   ],
   "source": [
    "# Top 10 who spent the most money\n",
    "df.sort_values('customer_value_total',ascending=False).head(10)"
   ],
   "metadata": {
    "collapsed": false,
    "pycharm": {
     "name": "#%%\n"
    }
   }
  },
  {
   "cell_type": "code",
   "execution_count": 8,
   "outputs": [
    {
     "data": {
      "text/plain": "                                  master_id order_channel last_order_channel  \\\n11150  5d1c466a-9cfd-11e9-9897-000d3a38a36f   Android App            Desktop   \n7223   cba59206-9dd1-11e9-9897-000d3a38a36f   Android App        Android App   \n8783   a57f4302-b1a8-11e9-89fa-000d3a38a36f   Android App            Offline   \n2619   fdbe8304-a7ab-11e9-a2fc-000d3a38a36f   Android App            Offline   \n6322   329968c6-a0e2-11e9-a2fc-000d3a38a36f       Ios App            Ios App   \n7613   73fd19aa-9e37-11e9-9897-000d3a38a36f       Ios App            Offline   \n9347   44d032ee-a0d4-11e9-a2fc-000d3a38a36f        Mobile             Mobile   \n10954  b27e241a-a901-11e9-a2fc-000d3a38a36f        Mobile             Mobile   \n8068   d696c654-2633-11ea-8e1c-000d3a38a36f       Ios App            Ios App   \n7330   a4d534a2-5b1b-11eb-8dbd-000d3a38a36f       Desktop            Desktop   \n\n      first_order_date last_order_date last_order_date_online  \\\n11150       2013-10-11      2021-04-30             2021-04-30   \n7223        2013-02-21      2021-05-09             2021-05-09   \n8783        2019-08-07      2020-11-04             2020-09-07   \n2619        2018-10-18      2020-06-30             2018-10-18   \n6322        2019-02-14      2021-04-05             2021-04-05   \n7613        2014-01-14      2021-05-18             2021-01-30   \n9347        2019-02-11      2021-02-11             2021-02-11   \n10954       2015-09-12      2021-04-01             2021-04-01   \n8068        2017-05-10      2021-04-13             2021-04-13   \n7330        2020-02-16      2021-04-30             2021-04-30   \n\n      last_order_date_offline  order_num_total_ever_online  \\\n11150              2020-12-24                      200.000   \n7223               2020-01-25                      130.000   \n8783               2020-11-04                        2.000   \n2619               2020-06-30                        1.000   \n6322               2020-02-17                        2.000   \n7613               2021-05-18                       81.000   \n9347               2020-12-24                        3.000   \n10954              2019-10-08                       72.000   \n8068               2019-08-15                       69.000   \n7330               2020-12-18                       66.000   \n\n       order_num_total_ever_offline  customer_value_total_ever_offline  \\\n11150                         2.000                            684.970   \n7223                          1.000                             49.990   \n8783                        109.000                          10239.460   \n2619                         87.000                           8432.250   \n6322                         81.000                           3997.550   \n7613                          1.000                           1263.760   \n9347                         74.000                           4640.770   \n10954                         3.000                            292.930   \n8068                          1.000                             82.480   \n7330                          4.000                            843.680   \n\n       customer_value_total_ever_online  \\\n11150                         45220.130   \n7223                          12232.250   \n8783                            143.980   \n2619                            139.980   \n6322                            242.810   \n7613                          32654.340   \n9347                            543.280   \n10954                          5004.950   \n8068                          16836.090   \n7330                          17599.890   \n\n                        interested_in_categories_12  order_num_total  \\\n11150  [AKTIFCOCUK, ERKEK, COCUK, KADIN, AKTIFSPOR]          202.000   \n7223          [AKTIFCOCUK, ERKEK, KADIN, AKTIFSPOR]          131.000   \n8783   [AKTIFCOCUK, ERKEK, COCUK, KADIN, AKTIFSPOR]          111.000   \n2619                                        [ERKEK]           88.000   \n6322                                        [ERKEK]           83.000   \n7613               [ERKEK, COCUK, KADIN, AKTIFSPOR]           82.000   \n9347                             [KADIN, AKTIFSPOR]           77.000   \n10954         [AKTIFCOCUK, ERKEK, KADIN, AKTIFSPOR]           75.000   \n8068   [AKTIFCOCUK, ERKEK, COCUK, KADIN, AKTIFSPOR]           70.000   \n7330                      [ERKEK, KADIN, AKTIFSPOR]           70.000   \n\n       customer_value_total  \n11150             45905.100  \n7223              12282.240  \n8783              10383.440  \n2619               8572.230  \n6322               4240.360  \n7613              33918.100  \n9347               5184.050  \n10954              5297.880  \n8068              16918.570  \n7330              18443.570  ",
      "text/html": "<div>\n<style scoped>\n    .dataframe tbody tr th:only-of-type {\n        vertical-align: middle;\n    }\n\n    .dataframe tbody tr th {\n        vertical-align: top;\n    }\n\n    .dataframe thead th {\n        text-align: right;\n    }\n</style>\n<table border=\"1\" class=\"dataframe\">\n  <thead>\n    <tr style=\"text-align: right;\">\n      <th></th>\n      <th>master_id</th>\n      <th>order_channel</th>\n      <th>last_order_channel</th>\n      <th>first_order_date</th>\n      <th>last_order_date</th>\n      <th>last_order_date_online</th>\n      <th>last_order_date_offline</th>\n      <th>order_num_total_ever_online</th>\n      <th>order_num_total_ever_offline</th>\n      <th>customer_value_total_ever_offline</th>\n      <th>customer_value_total_ever_online</th>\n      <th>interested_in_categories_12</th>\n      <th>order_num_total</th>\n      <th>customer_value_total</th>\n    </tr>\n  </thead>\n  <tbody>\n    <tr>\n      <th>11150</th>\n      <td>5d1c466a-9cfd-11e9-9897-000d3a38a36f</td>\n      <td>Android App</td>\n      <td>Desktop</td>\n      <td>2013-10-11</td>\n      <td>2021-04-30</td>\n      <td>2021-04-30</td>\n      <td>2020-12-24</td>\n      <td>200.000</td>\n      <td>2.000</td>\n      <td>684.970</td>\n      <td>45220.130</td>\n      <td>[AKTIFCOCUK, ERKEK, COCUK, KADIN, AKTIFSPOR]</td>\n      <td>202.000</td>\n      <td>45905.100</td>\n    </tr>\n    <tr>\n      <th>7223</th>\n      <td>cba59206-9dd1-11e9-9897-000d3a38a36f</td>\n      <td>Android App</td>\n      <td>Android App</td>\n      <td>2013-02-21</td>\n      <td>2021-05-09</td>\n      <td>2021-05-09</td>\n      <td>2020-01-25</td>\n      <td>130.000</td>\n      <td>1.000</td>\n      <td>49.990</td>\n      <td>12232.250</td>\n      <td>[AKTIFCOCUK, ERKEK, KADIN, AKTIFSPOR]</td>\n      <td>131.000</td>\n      <td>12282.240</td>\n    </tr>\n    <tr>\n      <th>8783</th>\n      <td>a57f4302-b1a8-11e9-89fa-000d3a38a36f</td>\n      <td>Android App</td>\n      <td>Offline</td>\n      <td>2019-08-07</td>\n      <td>2020-11-04</td>\n      <td>2020-09-07</td>\n      <td>2020-11-04</td>\n      <td>2.000</td>\n      <td>109.000</td>\n      <td>10239.460</td>\n      <td>143.980</td>\n      <td>[AKTIFCOCUK, ERKEK, COCUK, KADIN, AKTIFSPOR]</td>\n      <td>111.000</td>\n      <td>10383.440</td>\n    </tr>\n    <tr>\n      <th>2619</th>\n      <td>fdbe8304-a7ab-11e9-a2fc-000d3a38a36f</td>\n      <td>Android App</td>\n      <td>Offline</td>\n      <td>2018-10-18</td>\n      <td>2020-06-30</td>\n      <td>2018-10-18</td>\n      <td>2020-06-30</td>\n      <td>1.000</td>\n      <td>87.000</td>\n      <td>8432.250</td>\n      <td>139.980</td>\n      <td>[ERKEK]</td>\n      <td>88.000</td>\n      <td>8572.230</td>\n    </tr>\n    <tr>\n      <th>6322</th>\n      <td>329968c6-a0e2-11e9-a2fc-000d3a38a36f</td>\n      <td>Ios App</td>\n      <td>Ios App</td>\n      <td>2019-02-14</td>\n      <td>2021-04-05</td>\n      <td>2021-04-05</td>\n      <td>2020-02-17</td>\n      <td>2.000</td>\n      <td>81.000</td>\n      <td>3997.550</td>\n      <td>242.810</td>\n      <td>[ERKEK]</td>\n      <td>83.000</td>\n      <td>4240.360</td>\n    </tr>\n    <tr>\n      <th>7613</th>\n      <td>73fd19aa-9e37-11e9-9897-000d3a38a36f</td>\n      <td>Ios App</td>\n      <td>Offline</td>\n      <td>2014-01-14</td>\n      <td>2021-05-18</td>\n      <td>2021-01-30</td>\n      <td>2021-05-18</td>\n      <td>81.000</td>\n      <td>1.000</td>\n      <td>1263.760</td>\n      <td>32654.340</td>\n      <td>[ERKEK, COCUK, KADIN, AKTIFSPOR]</td>\n      <td>82.000</td>\n      <td>33918.100</td>\n    </tr>\n    <tr>\n      <th>9347</th>\n      <td>44d032ee-a0d4-11e9-a2fc-000d3a38a36f</td>\n      <td>Mobile</td>\n      <td>Mobile</td>\n      <td>2019-02-11</td>\n      <td>2021-02-11</td>\n      <td>2021-02-11</td>\n      <td>2020-12-24</td>\n      <td>3.000</td>\n      <td>74.000</td>\n      <td>4640.770</td>\n      <td>543.280</td>\n      <td>[KADIN, AKTIFSPOR]</td>\n      <td>77.000</td>\n      <td>5184.050</td>\n    </tr>\n    <tr>\n      <th>10954</th>\n      <td>b27e241a-a901-11e9-a2fc-000d3a38a36f</td>\n      <td>Mobile</td>\n      <td>Mobile</td>\n      <td>2015-09-12</td>\n      <td>2021-04-01</td>\n      <td>2021-04-01</td>\n      <td>2019-10-08</td>\n      <td>72.000</td>\n      <td>3.000</td>\n      <td>292.930</td>\n      <td>5004.950</td>\n      <td>[AKTIFCOCUK, ERKEK, KADIN, AKTIFSPOR]</td>\n      <td>75.000</td>\n      <td>5297.880</td>\n    </tr>\n    <tr>\n      <th>8068</th>\n      <td>d696c654-2633-11ea-8e1c-000d3a38a36f</td>\n      <td>Ios App</td>\n      <td>Ios App</td>\n      <td>2017-05-10</td>\n      <td>2021-04-13</td>\n      <td>2021-04-13</td>\n      <td>2019-08-15</td>\n      <td>69.000</td>\n      <td>1.000</td>\n      <td>82.480</td>\n      <td>16836.090</td>\n      <td>[AKTIFCOCUK, ERKEK, COCUK, KADIN, AKTIFSPOR]</td>\n      <td>70.000</td>\n      <td>16918.570</td>\n    </tr>\n    <tr>\n      <th>7330</th>\n      <td>a4d534a2-5b1b-11eb-8dbd-000d3a38a36f</td>\n      <td>Desktop</td>\n      <td>Desktop</td>\n      <td>2020-02-16</td>\n      <td>2021-04-30</td>\n      <td>2021-04-30</td>\n      <td>2020-12-18</td>\n      <td>66.000</td>\n      <td>4.000</td>\n      <td>843.680</td>\n      <td>17599.890</td>\n      <td>[ERKEK, KADIN, AKTIFSPOR]</td>\n      <td>70.000</td>\n      <td>18443.570</td>\n    </tr>\n  </tbody>\n</table>\n</div>"
     },
     "execution_count": 8,
     "metadata": {},
     "output_type": "execute_result"
    }
   ],
   "source": [
    "# Top 10 who ordered the most product\n",
    "df.sort_values('order_num_total',ascending=False).head(10)"
   ],
   "metadata": {
    "collapsed": false,
    "pycharm": {
     "name": "#%%\n"
    }
   }
  },
  {
   "cell_type": "markdown",
   "source": [
    "*RECALL*\n",
    "**Recency**: The freshness of the customer activity\n",
    "**Frequency**: The frequency of the customer transactions or visit\n",
    "**Monetary**: The intention of customer to spend or purchasing power of customer"
   ],
   "metadata": {
    "collapsed": false,
    "pycharm": {
     "name": "#%% md\n"
    }
   }
  },
  {
   "cell_type": "code",
   "execution_count": 9,
   "outputs": [
    {
     "data": {
      "text/plain": "Timestamp('2021-05-30 00:00:00')"
     },
     "execution_count": 9,
     "metadata": {},
     "output_type": "execute_result"
    }
   ],
   "source": [
    "# Return the latest order in the dataset, required to determine analysis date\n",
    "latest_order_date = df['last_order_date'].max()\n",
    "latest_order_date"
   ],
   "metadata": {
    "collapsed": false,
    "pycharm": {
     "name": "#%%\n"
    }
   }
  },
  {
   "cell_type": "code",
   "execution_count": 10,
   "outputs": [],
   "source": [
    "# Allowed to select the analysis date 2 days after the maximum date to calculate the recency value\n",
    "analysis_date = latest_order_date + timedelta(days=2)"
   ],
   "metadata": {
    "collapsed": false,
    "pycharm": {
     "name": "#%%\n"
    }
   }
  },
  {
   "cell_type": "code",
   "execution_count": 11,
   "outputs": [],
   "source": [
    "# Calculations of RFM Metrics\n",
    "rfm = df.groupby('master_id').agg({'last_order_date': lambda date: (analysis_date - date.max()).days, #Recency\n",
    "                                   'order_num_total': lambda order_num_total: order_num_total, #Frequency\n",
    "                                   'customer_value_total': lambda customer_value_total: customer_value_total.sum()}) #Monetary"
   ],
   "metadata": {
    "collapsed": false,
    "pycharm": {
     "name": "#%%\n"
    }
   }
  },
  {
   "cell_type": "code",
   "execution_count": 12,
   "outputs": [
    {
     "data": {
      "text/plain": "                                      last_order_date  order_num_total  \\\nmaster_id                                                                \n00016786-2f5a-11ea-bb80-000d3a38a36f               10            5.000   \n00034aaa-a838-11e9-a2fc-000d3a38a36f              298            3.000   \n000be838-85df-11ea-a90b-000d3a38a36f              213            4.000   \n000c1fe2-a8b7-11ea-8479-000d3a38a36f               27            7.000   \n000f5e3e-9dde-11ea-80cd-000d3a38a36f               20            7.000   \n\n                                      customer_value_total  \nmaster_id                                                   \n00016786-2f5a-11ea-bb80-000d3a38a36f               776.070  \n00034aaa-a838-11e9-a2fc-000d3a38a36f               269.470  \n000be838-85df-11ea-a90b-000d3a38a36f               722.690  \n000c1fe2-a8b7-11ea-8479-000d3a38a36f               874.160  \n000f5e3e-9dde-11ea-80cd-000d3a38a36f              1620.330  ",
      "text/html": "<div>\n<style scoped>\n    .dataframe tbody tr th:only-of-type {\n        vertical-align: middle;\n    }\n\n    .dataframe tbody tr th {\n        vertical-align: top;\n    }\n\n    .dataframe thead th {\n        text-align: right;\n    }\n</style>\n<table border=\"1\" class=\"dataframe\">\n  <thead>\n    <tr style=\"text-align: right;\">\n      <th></th>\n      <th>last_order_date</th>\n      <th>order_num_total</th>\n      <th>customer_value_total</th>\n    </tr>\n    <tr>\n      <th>master_id</th>\n      <th></th>\n      <th></th>\n      <th></th>\n    </tr>\n  </thead>\n  <tbody>\n    <tr>\n      <th>00016786-2f5a-11ea-bb80-000d3a38a36f</th>\n      <td>10</td>\n      <td>5.000</td>\n      <td>776.070</td>\n    </tr>\n    <tr>\n      <th>00034aaa-a838-11e9-a2fc-000d3a38a36f</th>\n      <td>298</td>\n      <td>3.000</td>\n      <td>269.470</td>\n    </tr>\n    <tr>\n      <th>000be838-85df-11ea-a90b-000d3a38a36f</th>\n      <td>213</td>\n      <td>4.000</td>\n      <td>722.690</td>\n    </tr>\n    <tr>\n      <th>000c1fe2-a8b7-11ea-8479-000d3a38a36f</th>\n      <td>27</td>\n      <td>7.000</td>\n      <td>874.160</td>\n    </tr>\n    <tr>\n      <th>000f5e3e-9dde-11ea-80cd-000d3a38a36f</th>\n      <td>20</td>\n      <td>7.000</td>\n      <td>1620.330</td>\n    </tr>\n  </tbody>\n</table>\n</div>"
     },
     "execution_count": 12,
     "metadata": {},
     "output_type": "execute_result"
    }
   ],
   "source": [
    "rfm.head()"
   ],
   "metadata": {
    "collapsed": false,
    "pycharm": {
     "name": "#%%\n"
    }
   }
  },
  {
   "cell_type": "code",
   "execution_count": 13,
   "outputs": [],
   "source": [
    "# Rename column names according to calculated RFM metrics\n",
    "rfm.columns = ['recency', 'frequency', 'monetary']"
   ],
   "metadata": {
    "collapsed": false,
    "pycharm": {
     "name": "#%%\n"
    }
   }
  },
  {
   "cell_type": "code",
   "execution_count": 14,
   "outputs": [
    {
     "data": {
      "text/plain": "                                      recency  frequency  monetary\nmaster_id                                                         \n00016786-2f5a-11ea-bb80-000d3a38a36f       10      5.000   776.070\n00034aaa-a838-11e9-a2fc-000d3a38a36f      298      3.000   269.470\n000be838-85df-11ea-a90b-000d3a38a36f      213      4.000   722.690\n000c1fe2-a8b7-11ea-8479-000d3a38a36f       27      7.000   874.160\n000f5e3e-9dde-11ea-80cd-000d3a38a36f       20      7.000  1620.330",
      "text/html": "<div>\n<style scoped>\n    .dataframe tbody tr th:only-of-type {\n        vertical-align: middle;\n    }\n\n    .dataframe tbody tr th {\n        vertical-align: top;\n    }\n\n    .dataframe thead th {\n        text-align: right;\n    }\n</style>\n<table border=\"1\" class=\"dataframe\">\n  <thead>\n    <tr style=\"text-align: right;\">\n      <th></th>\n      <th>recency</th>\n      <th>frequency</th>\n      <th>monetary</th>\n    </tr>\n    <tr>\n      <th>master_id</th>\n      <th></th>\n      <th></th>\n      <th></th>\n    </tr>\n  </thead>\n  <tbody>\n    <tr>\n      <th>00016786-2f5a-11ea-bb80-000d3a38a36f</th>\n      <td>10</td>\n      <td>5.000</td>\n      <td>776.070</td>\n    </tr>\n    <tr>\n      <th>00034aaa-a838-11e9-a2fc-000d3a38a36f</th>\n      <td>298</td>\n      <td>3.000</td>\n      <td>269.470</td>\n    </tr>\n    <tr>\n      <th>000be838-85df-11ea-a90b-000d3a38a36f</th>\n      <td>213</td>\n      <td>4.000</td>\n      <td>722.690</td>\n    </tr>\n    <tr>\n      <th>000c1fe2-a8b7-11ea-8479-000d3a38a36f</th>\n      <td>27</td>\n      <td>7.000</td>\n      <td>874.160</td>\n    </tr>\n    <tr>\n      <th>000f5e3e-9dde-11ea-80cd-000d3a38a36f</th>\n      <td>20</td>\n      <td>7.000</td>\n      <td>1620.330</td>\n    </tr>\n  </tbody>\n</table>\n</div>"
     },
     "execution_count": 14,
     "metadata": {},
     "output_type": "execute_result"
    }
   ],
   "source": [
    "rfm.head()"
   ],
   "metadata": {
    "collapsed": false,
    "pycharm": {
     "name": "#%%\n"
    }
   }
  },
  {
   "cell_type": "code",
   "execution_count": 15,
   "outputs": [],
   "source": [
    "# Converted RFM metrics to RFM scores with qcut & assigned to new columns\n",
    "rfm[\"recency_score\"] = pd.qcut(rfm['recency'], 5, labels=[5, 4, 3, 2, 1])\n",
    "\n",
    "rfm[\"frequency_score\"] = pd.qcut(rfm['frequency'].rank(method=\"first\"), 5, labels=[1, 2, 3, 4, 5])\n",
    "\n",
    "rfm[\"monetary_score\"] = pd.qcut(rfm['monetary'], 5, labels=[1, 2, 3, 4, 5])"
   ],
   "metadata": {
    "collapsed": false,
    "pycharm": {
     "name": "#%%\n"
    }
   }
  },
  {
   "cell_type": "code",
   "execution_count": 16,
   "outputs": [
    {
     "data": {
      "text/plain": "                                     recency_score frequency_score  \\\nmaster_id                                                            \n00016786-2f5a-11ea-bb80-000d3a38a36f             5               4   \n00034aaa-a838-11e9-a2fc-000d3a38a36f             1               2   \n000be838-85df-11ea-a90b-000d3a38a36f             2               3   \n000c1fe2-a8b7-11ea-8479-000d3a38a36f             5               4   \n000f5e3e-9dde-11ea-80cd-000d3a38a36f             5               4   \n...                                            ...             ...   \nfff1db94-afd9-11ea-b736-000d3a38a36f             2               4   \nfff4736a-60a4-11ea-8dd8-000d3a38a36f             4               2   \nfffacd34-ae14-11e9-a2fc-000d3a38a36f             1               4   \nfffacecc-ddc3-11e9-a848-000d3a38a36f             3               5   \nfffe4b30-18e0-11ea-9213-000d3a38a36f             1               4   \n\n                                     monetary_score  \nmaster_id                                            \n00016786-2f5a-11ea-bb80-000d3a38a36f              4  \n00034aaa-a838-11e9-a2fc-000d3a38a36f              1  \n000be838-85df-11ea-a90b-000d3a38a36f              4  \n000c1fe2-a8b7-11ea-8479-000d3a38a36f              4  \n000f5e3e-9dde-11ea-80cd-000d3a38a36f              5  \n...                                             ...  \nfff1db94-afd9-11ea-b736-000d3a38a36f              4  \nfff4736a-60a4-11ea-8dd8-000d3a38a36f              2  \nfffacd34-ae14-11e9-a2fc-000d3a38a36f              4  \nfffacecc-ddc3-11e9-a848-000d3a38a36f              5  \nfffe4b30-18e0-11ea-9213-000d3a38a36f              3  \n\n[19945 rows x 3 columns]",
      "text/html": "<div>\n<style scoped>\n    .dataframe tbody tr th:only-of-type {\n        vertical-align: middle;\n    }\n\n    .dataframe tbody tr th {\n        vertical-align: top;\n    }\n\n    .dataframe thead th {\n        text-align: right;\n    }\n</style>\n<table border=\"1\" class=\"dataframe\">\n  <thead>\n    <tr style=\"text-align: right;\">\n      <th></th>\n      <th>recency_score</th>\n      <th>frequency_score</th>\n      <th>monetary_score</th>\n    </tr>\n    <tr>\n      <th>master_id</th>\n      <th></th>\n      <th></th>\n      <th></th>\n    </tr>\n  </thead>\n  <tbody>\n    <tr>\n      <th>00016786-2f5a-11ea-bb80-000d3a38a36f</th>\n      <td>5</td>\n      <td>4</td>\n      <td>4</td>\n    </tr>\n    <tr>\n      <th>00034aaa-a838-11e9-a2fc-000d3a38a36f</th>\n      <td>1</td>\n      <td>2</td>\n      <td>1</td>\n    </tr>\n    <tr>\n      <th>000be838-85df-11ea-a90b-000d3a38a36f</th>\n      <td>2</td>\n      <td>3</td>\n      <td>4</td>\n    </tr>\n    <tr>\n      <th>000c1fe2-a8b7-11ea-8479-000d3a38a36f</th>\n      <td>5</td>\n      <td>4</td>\n      <td>4</td>\n    </tr>\n    <tr>\n      <th>000f5e3e-9dde-11ea-80cd-000d3a38a36f</th>\n      <td>5</td>\n      <td>4</td>\n      <td>5</td>\n    </tr>\n    <tr>\n      <th>...</th>\n      <td>...</td>\n      <td>...</td>\n      <td>...</td>\n    </tr>\n    <tr>\n      <th>fff1db94-afd9-11ea-b736-000d3a38a36f</th>\n      <td>2</td>\n      <td>4</td>\n      <td>4</td>\n    </tr>\n    <tr>\n      <th>fff4736a-60a4-11ea-8dd8-000d3a38a36f</th>\n      <td>4</td>\n      <td>2</td>\n      <td>2</td>\n    </tr>\n    <tr>\n      <th>fffacd34-ae14-11e9-a2fc-000d3a38a36f</th>\n      <td>1</td>\n      <td>4</td>\n      <td>4</td>\n    </tr>\n    <tr>\n      <th>fffacecc-ddc3-11e9-a848-000d3a38a36f</th>\n      <td>3</td>\n      <td>5</td>\n      <td>5</td>\n    </tr>\n    <tr>\n      <th>fffe4b30-18e0-11ea-9213-000d3a38a36f</th>\n      <td>1</td>\n      <td>4</td>\n      <td>3</td>\n    </tr>\n  </tbody>\n</table>\n<p>19945 rows × 3 columns</p>\n</div>"
     },
     "execution_count": 16,
     "metadata": {},
     "output_type": "execute_result"
    }
   ],
   "source": [
    "rfm.loc[:,['recency_score','frequency_score','monetary_score']]"
   ],
   "metadata": {
    "collapsed": false,
    "pycharm": {
     "name": "#%%\n"
    }
   }
  },
  {
   "cell_type": "code",
   "execution_count": 17,
   "outputs": [],
   "source": [
    "# Create RF Score with Recency & Frequency Score\n",
    "rfm[\"rf_score\"] = rfm[['recency_score', 'frequency_score']].apply(lambda x: \"\".join(x.astype(str)), axis=1)"
   ],
   "metadata": {
    "collapsed": false,
    "pycharm": {
     "name": "#%%\n"
    }
   }
  },
  {
   "cell_type": "code",
   "execution_count": 18,
   "outputs": [],
   "source": [
    "# Reset index & add master_id as a column instead of index\n",
    "rfm = rfm.reset_index()"
   ],
   "metadata": {
    "collapsed": false,
    "pycharm": {
     "name": "#%%\n"
    }
   }
  },
  {
   "cell_type": "code",
   "execution_count": 19,
   "outputs": [
    {
     "data": {
      "text/plain": "      recency_score frequency_score rf_score\n0                 5               4       54\n1                 1               2       12\n2                 2               3       23\n3                 5               4       54\n4                 5               4       54\n...             ...             ...      ...\n19940             2               4       24\n19941             4               2       42\n19942             1               4       14\n19943             3               5       35\n19944             1               4       14\n\n[19945 rows x 3 columns]",
      "text/html": "<div>\n<style scoped>\n    .dataframe tbody tr th:only-of-type {\n        vertical-align: middle;\n    }\n\n    .dataframe tbody tr th {\n        vertical-align: top;\n    }\n\n    .dataframe thead th {\n        text-align: right;\n    }\n</style>\n<table border=\"1\" class=\"dataframe\">\n  <thead>\n    <tr style=\"text-align: right;\">\n      <th></th>\n      <th>recency_score</th>\n      <th>frequency_score</th>\n      <th>rf_score</th>\n    </tr>\n  </thead>\n  <tbody>\n    <tr>\n      <th>0</th>\n      <td>5</td>\n      <td>4</td>\n      <td>54</td>\n    </tr>\n    <tr>\n      <th>1</th>\n      <td>1</td>\n      <td>2</td>\n      <td>12</td>\n    </tr>\n    <tr>\n      <th>2</th>\n      <td>2</td>\n      <td>3</td>\n      <td>23</td>\n    </tr>\n    <tr>\n      <th>3</th>\n      <td>5</td>\n      <td>4</td>\n      <td>54</td>\n    </tr>\n    <tr>\n      <th>4</th>\n      <td>5</td>\n      <td>4</td>\n      <td>54</td>\n    </tr>\n    <tr>\n      <th>...</th>\n      <td>...</td>\n      <td>...</td>\n      <td>...</td>\n    </tr>\n    <tr>\n      <th>19940</th>\n      <td>2</td>\n      <td>4</td>\n      <td>24</td>\n    </tr>\n    <tr>\n      <th>19941</th>\n      <td>4</td>\n      <td>2</td>\n      <td>42</td>\n    </tr>\n    <tr>\n      <th>19942</th>\n      <td>1</td>\n      <td>4</td>\n      <td>14</td>\n    </tr>\n    <tr>\n      <th>19943</th>\n      <td>3</td>\n      <td>5</td>\n      <td>35</td>\n    </tr>\n    <tr>\n      <th>19944</th>\n      <td>1</td>\n      <td>4</td>\n      <td>14</td>\n    </tr>\n  </tbody>\n</table>\n<p>19945 rows × 3 columns</p>\n</div>"
     },
     "execution_count": 19,
     "metadata": {},
     "output_type": "execute_result"
    }
   ],
   "source": [
    "rfm.loc[:,['recency_score','frequency_score', 'rf_score']]"
   ],
   "metadata": {
    "collapsed": false,
    "pycharm": {
     "name": "#%%\n"
    }
   }
  },
  {
   "cell_type": "code",
   "execution_count": 20,
   "outputs": [],
   "source": [
    "# 'Segmentation' with RFM labelling\n",
    "# Regex is used to perform this, but can also be done with Dict.\n",
    "\n",
    "segmentation_map = {\n",
    "    r'[1-2][1-2]': 'hibernating',\n",
    "    r'[1-2][3-4]': 'at_Risk',\n",
    "    r'[1-2]5': 'cant_loose',\n",
    "    r'3[1-2]': 'about_to_sleep',\n",
    "    r'33': 'need_attention',\n",
    "    r'[3-4][4-5]': 'loyal_customers',\n",
    "    r'41': 'promising',\n",
    "    r'51': 'new_customers',\n",
    "    r'[4-5][2-3]': 'potential_loyalists',\n",
    "    r'5[4-5]': 'champions'\n",
    "}\n",
    "\n",
    "rfm['segment'] = rfm['rf_score'].replace(to_replace=segmentation_map, regex=True)"
   ],
   "metadata": {
    "collapsed": false,
    "pycharm": {
     "name": "#%%\n"
    }
   }
  },
  {
   "cell_type": "code",
   "execution_count": 21,
   "outputs": [
    {
     "data": {
      "text/plain": "      rf_score              segment\n0           54            champions\n1           12          hibernating\n2           23              at_Risk\n3           54            champions\n4           54            champions\n...        ...                  ...\n19940       24              at_Risk\n19941       42  potential_loyalists\n19942       14              at_Risk\n19943       35      loyal_customers\n19944       14              at_Risk\n\n[19945 rows x 2 columns]",
      "text/html": "<div>\n<style scoped>\n    .dataframe tbody tr th:only-of-type {\n        vertical-align: middle;\n    }\n\n    .dataframe tbody tr th {\n        vertical-align: top;\n    }\n\n    .dataframe thead th {\n        text-align: right;\n    }\n</style>\n<table border=\"1\" class=\"dataframe\">\n  <thead>\n    <tr style=\"text-align: right;\">\n      <th></th>\n      <th>rf_score</th>\n      <th>segment</th>\n    </tr>\n  </thead>\n  <tbody>\n    <tr>\n      <th>0</th>\n      <td>54</td>\n      <td>champions</td>\n    </tr>\n    <tr>\n      <th>1</th>\n      <td>12</td>\n      <td>hibernating</td>\n    </tr>\n    <tr>\n      <th>2</th>\n      <td>23</td>\n      <td>at_Risk</td>\n    </tr>\n    <tr>\n      <th>3</th>\n      <td>54</td>\n      <td>champions</td>\n    </tr>\n    <tr>\n      <th>4</th>\n      <td>54</td>\n      <td>champions</td>\n    </tr>\n    <tr>\n      <th>...</th>\n      <td>...</td>\n      <td>...</td>\n    </tr>\n    <tr>\n      <th>19940</th>\n      <td>24</td>\n      <td>at_Risk</td>\n    </tr>\n    <tr>\n      <th>19941</th>\n      <td>42</td>\n      <td>potential_loyalists</td>\n    </tr>\n    <tr>\n      <th>19942</th>\n      <td>14</td>\n      <td>at_Risk</td>\n    </tr>\n    <tr>\n      <th>19943</th>\n      <td>35</td>\n      <td>loyal_customers</td>\n    </tr>\n    <tr>\n      <th>19944</th>\n      <td>14</td>\n      <td>at_Risk</td>\n    </tr>\n  </tbody>\n</table>\n<p>19945 rows × 2 columns</p>\n</div>"
     },
     "execution_count": 21,
     "metadata": {},
     "output_type": "execute_result"
    }
   ],
   "source": [
    "rfm.loc[:,['rf_score','segment']]"
   ],
   "metadata": {
    "collapsed": false,
    "pycharm": {
     "name": "#%%\n"
    }
   }
  },
  {
   "cell_type": "code",
   "execution_count": 22,
   "outputs": [
    {
     "data": {
      "text/plain": "                     recency  frequency  monetary\nsegment                                          \nabout_to_sleep       114.032      2.407   361.649\nat_Risk              242.329      4.470   648.325\ncant_loose           235.159     10.717  1481.652\nchampions             17.142      8.965  1410.709\nhibernating          247.426      2.391   362.583\nloyal_customers       82.558      8.356  1216.257\nneed_attention       113.037      3.739   553.437\nnew_customers         17.976      2.000   344.049\npotential_loyalists   36.870      3.311   533.741\npromising             58.695      2.000   334.153",
      "text/html": "<div>\n<style scoped>\n    .dataframe tbody tr th:only-of-type {\n        vertical-align: middle;\n    }\n\n    .dataframe tbody tr th {\n        vertical-align: top;\n    }\n\n    .dataframe thead th {\n        text-align: right;\n    }\n</style>\n<table border=\"1\" class=\"dataframe\">\n  <thead>\n    <tr style=\"text-align: right;\">\n      <th></th>\n      <th>recency</th>\n      <th>frequency</th>\n      <th>monetary</th>\n    </tr>\n    <tr>\n      <th>segment</th>\n      <th></th>\n      <th></th>\n      <th></th>\n    </tr>\n  </thead>\n  <tbody>\n    <tr>\n      <th>about_to_sleep</th>\n      <td>114.032</td>\n      <td>2.407</td>\n      <td>361.649</td>\n    </tr>\n    <tr>\n      <th>at_Risk</th>\n      <td>242.329</td>\n      <td>4.470</td>\n      <td>648.325</td>\n    </tr>\n    <tr>\n      <th>cant_loose</th>\n      <td>235.159</td>\n      <td>10.717</td>\n      <td>1481.652</td>\n    </tr>\n    <tr>\n      <th>champions</th>\n      <td>17.142</td>\n      <td>8.965</td>\n      <td>1410.709</td>\n    </tr>\n    <tr>\n      <th>hibernating</th>\n      <td>247.426</td>\n      <td>2.391</td>\n      <td>362.583</td>\n    </tr>\n    <tr>\n      <th>loyal_customers</th>\n      <td>82.558</td>\n      <td>8.356</td>\n      <td>1216.257</td>\n    </tr>\n    <tr>\n      <th>need_attention</th>\n      <td>113.037</td>\n      <td>3.739</td>\n      <td>553.437</td>\n    </tr>\n    <tr>\n      <th>new_customers</th>\n      <td>17.976</td>\n      <td>2.000</td>\n      <td>344.049</td>\n    </tr>\n    <tr>\n      <th>potential_loyalists</th>\n      <td>36.870</td>\n      <td>3.311</td>\n      <td>533.741</td>\n    </tr>\n    <tr>\n      <th>promising</th>\n      <td>58.695</td>\n      <td>2.000</td>\n      <td>334.153</td>\n    </tr>\n  </tbody>\n</table>\n</div>"
     },
     "execution_count": 22,
     "metadata": {},
     "output_type": "execute_result"
    }
   ],
   "source": [
    "# Observed the averages of \"recency\", \"frequency\", \"monetary\" values by segmentation\n",
    "rfm.groupby('segment')[[\"recency\", \"frequency\", \"monetary\"]].mean()"
   ],
   "metadata": {
    "collapsed": false,
    "pycharm": {
     "name": "#%%\n"
    }
   }
  },
  {
   "cell_type": "markdown",
   "source": [
    "#### *Observation Case - 1*\n",
    "\n",
    "FLO will include a new women's shoe brand to its catalogue but the product prices of this brand are above the general customer prefences. Therefore, they desire to contact the customers in the profile that will be interested in the promotion of this brand and product sales. Thus, they will contact customers who are in the champions, loyal_customers segment, and shoppers from the female category.\n",
    "\n",
    "Once the analysis done, the obtained customers should be saved in the csv file with their customer ids.\n"
   ],
   "metadata": {
    "collapsed": false,
    "pycharm": {
     "name": "#%% md\n"
    }
   }
  },
  {
   "cell_type": "code",
   "execution_count": 23,
   "outputs": [],
   "source": [
    "# Define champions and loyal customers\n",
    "target_segments_customer_ids = rfm[rfm[\"segment\"].isin([\"champions\",\"loyal_customers\"])]['master_id']"
   ],
   "metadata": {
    "collapsed": false,
    "pycharm": {
     "name": "#%%\n"
    }
   }
  },
  {
   "cell_type": "code",
   "execution_count": 24,
   "outputs": [
    {
     "data": {
      "text/plain": "0        00016786-2f5a-11ea-bb80-000d3a38a36f\n3        000c1fe2-a8b7-11ea-8479-000d3a38a36f\n4        000f5e3e-9dde-11ea-80cd-000d3a38a36f\n18       003903e0-abce-11e9-a2fc-000d3a38a36f\n22       004bec18-9f7a-11e9-a2fc-000d3a38a36f\n                         ...                 \n19932    ffdd5eb8-aee9-11e9-a2fc-000d3a38a36f\n19934    ffe0ab60-6c79-11ea-9ddf-000d3a38a36f\n19936    ffe5c7e8-ee12-11e9-9346-000d3a38a36f\n19939    ffefdd18-77ca-11ea-9b70-000d3a38a36f\n19943    fffacecc-ddc3-11e9-a848-000d3a38a36f\nName: master_id, Length: 5295, dtype: object"
     },
     "execution_count": 24,
     "metadata": {},
     "output_type": "execute_result"
    }
   ],
   "source": [
    "target_segments_customer_ids"
   ],
   "metadata": {
    "collapsed": false,
    "pycharm": {
     "name": "#%%\n"
    }
   }
  },
  {
   "cell_type": "code",
   "execution_count": 25,
   "outputs": [],
   "source": [
    "# Define those who shop from woman category\n",
    "target_cat_customer_ids = df[(df[\"master_id\"].isin(target_segments_customer_ids)) & (df[\"interested_in_categories_12\"].str.contains(\"KADIN\"))][\"master_id\"]"
   ],
   "metadata": {
    "collapsed": false,
    "pycharm": {
     "name": "#%%\n"
    }
   }
  },
  {
   "cell_type": "code",
   "execution_count": 27,
   "outputs": [
    {
     "data": {
      "text/plain": "0        cc294636-19f0-11eb-8d74-000d3a38a36f\n1        f431bd5a-ab7b-11e9-a2fc-000d3a38a36f\n8        cfbda69e-5b4f-11ea-aca7-000d3a38a36f\n11       c2e15af2-9eed-11e9-9897-000d3a38a36f\n33       fb840306-1219-11ea-a001-000d3a38a36f\n                         ...                 \n19912    f63aba0e-41d8-11ea-96d9-000d3a38a36f\n19913    81d0da04-a53e-11e9-a2fc-000d3a38a36f\n19914    825e6b00-ab40-11e9-a2fc-000d3a38a36f\n19917    f8c471c8-2596-11eb-81e9-000d3a38a36f\n19926    7e1c15be-6298-11ea-9861-000d3a38a36f\nName: master_id, Length: 2487, dtype: object"
     },
     "execution_count": 27,
     "metadata": {},
     "output_type": "execute_result"
    }
   ],
   "source": [
    "target_cat_customer_ids"
   ],
   "metadata": {
    "collapsed": false,
    "pycharm": {
     "name": "#%%\n"
    }
   }
  },
  {
   "cell_type": "markdown",
   "source": [
    "#### *Observation Case - 2*\n",
    "\n",
    "FLO is planning to offer a discount of up to 40% on Men's and Children's products. It is aimed to specifically target customers who have had interest in these categories in the past but are now currently in the hibernating, new customers, and can't loose segment.\n",
    "\n",
    "Once the analysis done, the obtained customers should be saved in the csv file with their customer ids.\n"
   ],
   "metadata": {
    "collapsed": false,
    "pycharm": {
     "name": "#%% md\n"
    }
   }
  },
  {
   "cell_type": "code",
   "execution_count": 28,
   "outputs": [],
   "source": [
    "target_segments_customer_ids = rfm[rfm[\"segment\"].isin([\"cant_loose\",\"hibernating\",\"new_customers\"])][\"master_id\"]"
   ],
   "metadata": {
    "collapsed": false,
    "pycharm": {
     "name": "#%%\n"
    }
   }
  },
  {
   "cell_type": "code",
   "execution_count": 29,
   "outputs": [
    {
     "data": {
      "text/plain": "1        00034aaa-a838-11e9-a2fc-000d3a38a36f\n5        00136ce2-a562-11e9-a2fc-000d3a38a36f\n9        0022f41e-5597-11eb-9e65-000d3a38a36f\n11       00263f1a-210a-11ea-b50a-000d3a38a36f\n16       0033f078-7359-11ea-92d0-000d3a38a36f\n                         ...                 \n19907    ff839e5e-1fdd-11ea-87bf-000d3a38a36f\n19922    ffc47e38-003d-11eb-8341-000d3a38a36f\n19926    ffce3990-26be-11ea-aaaa-000d3a38a36f\n19929    ffd1553a-1ed0-11ea-81ff-000d3a38a36f\n19937    ffe7e6e4-5bb9-11ea-a4ac-000d3a38a36f\nName: master_id, Length: 5456, dtype: object"
     },
     "execution_count": 29,
     "metadata": {},
     "output_type": "execute_result"
    }
   ],
   "source": [
    "target_segments_customer_ids"
   ],
   "metadata": {
    "collapsed": false,
    "pycharm": {
     "name": "#%%\n"
    }
   }
  },
  {
   "cell_type": "code",
   "execution_count": 30,
   "outputs": [],
   "source": [
    "target_cat_customer_ids = df[(df[\"master_id\"].isin(target_segments_customer_ids)) & ((df[\"interested_in_categories_12\"].str.contains(\"ERKEK\"))|(df[\"interested_in_categories_12\"].str.contains(\"COCUK\")))][\"master_id\"]"
   ],
   "metadata": {
    "collapsed": false,
    "pycharm": {
     "name": "#%%\n"
    }
   }
  },
  {
   "cell_type": "code",
   "execution_count": 32,
   "outputs": [
    {
     "data": {
      "text/plain": "7        3f1b4dc8-8a7d-11ea-8ec0-000d3a38a36f\n10       ae608ece-c9d8-11ea-a31e-000d3a38a36f\n15       13ed97a4-b167-11e9-89fa-000d3a38a36f\n19       2730793e-3908-11ea-85d6-000d3a38a36f\n21       7b289956-d691-11e9-93bc-000d3a38a36f\n                         ...                 \n19932    13a5e98c-a824-11e9-a2fc-000d3a38a36f\n19933    6d285c64-5e73-11ea-be5b-000d3a38a36f\n19934    9777eb76-bed4-11ea-958c-000d3a38a36f\n19936    1982ac0e-9f4c-11e9-9897-000d3a38a36f\n19940    727e2b6e-ddd4-11e9-a848-000d3a38a36f\nName: master_id, Length: 2770, dtype: object"
     },
     "execution_count": 32,
     "metadata": {},
     "output_type": "execute_result"
    }
   ],
   "source": [
    "target_cat_customer_ids"
   ],
   "metadata": {
    "collapsed": false,
    "pycharm": {
     "name": "#%%\n"
    }
   }
  },
  {
   "cell_type": "markdown",
   "source": [
    "---"
   ],
   "metadata": {
    "collapsed": false,
    "pycharm": {
     "name": "#%% md\n"
    }
   }
  },
  {
   "cell_type": "code",
   "execution_count": 33,
   "outputs": [],
   "source": [
    "def csv_output(query, filename='output', index=False):\n",
    "    return query.to_csv('.'.join([filename,'csv']),index=index)"
   ],
   "metadata": {
    "collapsed": false,
    "pycharm": {
     "name": "#%%\n"
    }
   }
  },
  {
   "cell_type": "code",
   "execution_count": 34,
   "outputs": [],
   "source": [
    "csv_output(target_cat_customer_ids, filename='new_woman_shoes_target')"
   ],
   "metadata": {
    "collapsed": false,
    "pycharm": {
     "name": "#%%\n"
    }
   }
  },
  {
   "cell_type": "code",
   "execution_count": 36,
   "outputs": [],
   "source": [
    "csv_output(target_cat_customer_ids, filename='forty_per_discount_target')"
   ],
   "metadata": {
    "collapsed": false,
    "pycharm": {
     "name": "#%%\n"
    }
   }
  }
 ],
 "metadata": {
  "kernelspec": {
   "display_name": "Python 3",
   "language": "python",
   "name": "python3"
  },
  "language_info": {
   "codemirror_mode": {
    "name": "ipython",
    "version": 2
   },
   "file_extension": ".py",
   "mimetype": "text/x-python",
   "name": "python",
   "nbconvert_exporter": "python",
   "pygments_lexer": "ipython2",
   "version": "2.7.6"
  }
 },
 "nbformat": 4,
 "nbformat_minor": 0
}